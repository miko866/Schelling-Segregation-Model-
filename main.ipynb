{
 "cells": [
  {
   "cell_type": "code",
   "outputs": [],
   "source": [
    "import numpy as np\n",
    "import matplotlib.pyplot as plt"
   ],
   "metadata": {
    "collapsed": false,
    "ExecuteTime": {
     "end_time": "2024-03-26T11:49:33.796882Z",
     "start_time": "2024-03-26T11:49:33.789902Z"
    }
   },
   "id": "c2d46b35b8013341",
   "execution_count": 8
  },
  {
   "cell_type": "code",
   "outputs": [],
   "source": [
    "# Initialize the grid with a given fraction of agents\n",
    "def initialize_grid(size, fraction_agents):\n",
    "    # 0 represents an empty cell, it is empty by default\n",
    "    grid = np.zeros((size, size))\n",
    "    agents_1 = int(fraction_agents * size * size / 2)\n",
    "    agents_2 = agents_1\n",
    "    # Randomly place the agents on the grid\n",
    "    agent_positions = np.random.choice(range(size * size), agents_1 + agents_2, replace=False)\n",
    "    # 1 represents agents of type 1, 2 represents agents of type 2\n",
    "    grid.ravel()[agent_positions[:agents_1]] = 1\n",
    "    grid.ravel()[agent_positions[agents_1:]] = 2\n",
    "    return grid"
   ],
   "metadata": {
    "collapsed": false,
    "ExecuteTime": {
     "end_time": "2024-03-26T11:49:34.397859Z",
     "start_time": "2024-03-26T11:49:34.393770Z"
    }
   },
   "id": "fc6dc5d0030ca883",
   "execution_count": 9
  },
  {
   "cell_type": "code",
   "outputs": [],
   "source": [
    "# Check if the agent at position (x, y) is satisfied with its neighborhood\n",
    "def is_satisfied(grid, x, y, tolerance=0.5):\n",
    "    # Get the agent at position (x, y)\n",
    "    agent = grid[x, y]\n",
    "    # If the cell is empty, it is satisfied by default\n",
    "    if agent == 0:\n",
    "        return True\n",
    "    # The agent is not at the edge of the grid\n",
    "    # so, we don't need to check if x-1 or y-1 are negative\n",
    "    neighbors = grid[max(x - 1, 0):x + 2, max(y - 1, 0):y + 2]\n",
    "    # The agent is satisfied if the fraction of similar neighbors is greater than tolerance\n",
    "    # The agent itself is not considered a neighbor\n",
    "    # so, we subtract 1 from the number of similar neighbors if the agent is of the same type\n",
    "    num_same = (neighbors == agent).sum() - 1\n",
    "    # The number of different neighbors\n",
    "    num_diff = (neighbors > 0).sum() - num_same\n",
    "    # If there are no neighbors, the agent is satisfied\n",
    "    if num_diff + num_same == 0:\n",
    "        return True\n",
    "    # Return True if the fraction of similar neighbors is greater than tolerance\n",
    "    return num_same / (num_diff + num_same) >= tolerance"
   ],
   "metadata": {
    "collapsed": false,
    "ExecuteTime": {
     "end_time": "2024-03-26T11:49:34.874099Z",
     "start_time": "2024-03-26T11:49:34.871222Z"
    }
   },
   "id": "24329566efff3c70",
   "execution_count": 10
  },
  {
   "cell_type": "code",
   "outputs": [],
   "source": [
    "# Move the agents that are not satisfied to a random empty cell\n",
    "# The tolerance parameter determines the fraction of similar neighbors\n",
    "# that an agent needs to be satisfied\n",
    "def step(grid, tolerance): \n",
    "    size = grid.shape[0]\n",
    "    \n",
    "    for x in range(size):\n",
    "        for y in range(size):\n",
    "            if not is_satisfied(grid, x, y, tolerance):\n",
    "                # Get the empty positions\n",
    "                empty_positions = list(zip(*np.where(grid == 0)))\n",
    "                # If there are no empty positions, return the grid as it is\n",
    "                new_position = empty_positions[np.random.choice(len(empty_positions))]\n",
    "                grid[new_position] = grid[x, y]\n",
    "                grid[x, y] = 0\n",
    "    return grid"
   ],
   "metadata": {
    "collapsed": false,
    "ExecuteTime": {
     "end_time": "2024-03-26T11:49:35.377132Z",
     "start_time": "2024-03-26T11:49:35.374111Z"
    }
   },
   "id": "e38b124914b3bc69",
   "execution_count": 11
  },
  {
   "cell_type": "code",
   "outputs": [],
   "source": [
    "def plot(grid):\n",
    "    plt.imshow(grid, cmap='bwr')\n",
    "    plt.show()"
   ],
   "metadata": {
    "collapsed": false,
    "ExecuteTime": {
     "end_time": "2024-03-26T11:49:35.797790Z",
     "start_time": "2024-03-26T11:49:35.795521Z"
    }
   },
   "id": "cd277f381dafc2cc",
   "execution_count": 12
  },
  {
   "cell_type": "code",
   "outputs": [],
   "source": [
    "# Initialize the grid and plot it\n",
    "def simulate(grid, steps, tolerance):\n",
    "    num_satisfied = []\n",
    "    for _ in range(steps):\n",
    "        grid = step(grid, tolerance)\n",
    "        # Count the number of satisfied agents\n",
    "        # and append it to the list\n",
    "        # 0 represents an empty cell, so we don't count it\n",
    "        # The number of satisfied agents is the number of non-empty cells\n",
    "        num_satisfied.append((grid > 0).sum())\n",
    "        plot(grid)\n",
    "    # Plot the number of satisfied agents at each step\n",
    "    plt.plot(num_satisfied)\n",
    "    plt.show()"
   ],
   "metadata": {
    "collapsed": false,
    "ExecuteTime": {
     "end_time": "2024-03-26T11:49:36.318832Z",
     "start_time": "2024-03-26T11:49:36.315986Z"
    }
   },
   "id": "a6c68fea86968dc1",
   "execution_count": 13
  },
  {
   "cell_type": "code",
   "outputs": [],
   "source": [
    "# Initialize the grid and run the simulation\n",
    "grid = initialize_grid(50, 0.9)\n",
    "simulate(grid, 10, tolerance=0.6)"
   ],
   "metadata": {
    "collapsed": false
   },
   "id": "c298fc4365607e9d",
   "execution_count": null
  },
  {
   "cell_type": "code",
   "outputs": [],
   "source": [],
   "metadata": {
    "collapsed": false
   },
   "id": "652aea26e80314d3"
  }
 ],
 "metadata": {
  "kernelspec": {
   "display_name": "Python 3",
   "language": "python",
   "name": "python3"
  },
  "language_info": {
   "codemirror_mode": {
    "name": "ipython",
    "version": 2
   },
   "file_extension": ".py",
   "mimetype": "text/x-python",
   "name": "python",
   "nbconvert_exporter": "python",
   "pygments_lexer": "ipython2",
   "version": "2.7.6"
  }
 },
 "nbformat": 4,
 "nbformat_minor": 5
}
